{
 "cells": [
  {
   "cell_type": "code",
   "execution_count": null,
   "id": "1f013d0a",
   "metadata": {},
   "outputs": [],
   "source": []
  },
  {
   "cell_type": "code",
   "execution_count": 85,
   "id": "7c1e48e9",
   "metadata": {},
   "outputs": [
    {
     "name": "stderr",
     "output_type": "stream",
     "text": [
      "[nltk_data] Downloading package punkt to ....\n",
      "[nltk_data]   Package punkt is already up-to-date!\n",
      "[nltk_data] Downloading package stopwords to\n",
      "[nltk_data]     C:\\Users\\juand\\AppData\\Roaming\\nltk_data...\n",
      "[nltk_data]   Package stopwords is already up-to-date!\n"
     ]
    }
   ],
   "source": [
    "from nltk.lm.vocabulary import Vocabulary\n",
    "from nltk import download\n",
    "import glob\n",
    "import itertools\n",
    "import email\n",
    "from nltk.corpus.reader.plaintext import PlaintextCorpusReader\n",
    "from nltk.corpus import stopwords\n",
    "from nltk.data import load\n",
    "download('punkt', download_dir='.')\n",
    "download('stopwords')\n",
    "\n",
    "def readSpamFiles():\n",
    "    mails = []\n",
    "    i = 0\n",
    "    for s in glob.glob(\"Enron-Spam/no_deseado/*\"):\n",
    "        url = \"Enron-Spam/no_deseado/\"+s.split(\"\\\\\")[1]\n",
    "        with open(url) as file_:\n",
    "            mail = email.message_from_file(file_)\n",
    "            mails.append(mail.get(\"Subject\"))\n",
    "        if i >=20:\n",
    "            break\n",
    "        i=i+1\n",
    "    return mails\n",
    "\n",
    "\n",
    "\n"
   ]
  },
  {
   "cell_type": "code",
   "execution_count": 86,
   "id": "dae6afa6",
   "metadata": {},
   "outputs": [],
   "source": [
    "def cleanText(text):\n",
    "    punctuations = []\n",
    "    words = []\n",
    "    for c in text:\n",
    "        if c not in string.punctuation:\n",
    "            \n",
    "            punctuations.append(c)\n",
    "    punctuations = ''.join(punctuations)\n",
    "    \n",
    "    for t in punctuations.split():\n",
    "        if t.lower() not in stopwords.words('english'):\n",
    "           \n",
    "            words.append(t)\n",
    "    return words\n",
    "            "
   ]
  },
  {
   "cell_type": "code",
   "execution_count": 87,
   "id": "1d0acabb",
   "metadata": {},
   "outputs": [
    {
     "name": "stdout",
     "output_type": "stream",
     "text": [
      "[['Order', 'Cheap', 'VALlUM', 'ship', 'worldwide'], ['Sper', 'pass', 'anyone', 'taking', 'medications'], [], ['Server', 'mailing'], ['Phamacy', 'Online', 'dragnet'], [], ['Meet', '3', 'Million', 'Eligible', 'Singles', 'Area'], ['dont', 'know', 'attract', 'customers', 'website'], ['Progress', 'AUJY', 'Dep'], ['Search', 'Optimization'], ['YaSheng', 'Group', 'YHGG', 'Announces', '1st', 'Quarter', 'Results', '145', 'Million', 'Revenue'], ['Returned', 'mail', 'see', 'transcript', 'details'], ['infected', 'Read', 'details'], ['Continued', 'Growth', 'Orbit', 'Drop', 'Inc', 'Acquisitions', 'Changes', 'take', 'place', 'positioning', 'OBDP', 'next', 'level'], ['Enjoy', 'Media', 'EJYM', 'Enters', 'Chinese', 'TV', 'Advertising', 'Market'], ['New', 'Penis', 'Enlargement', 'Patches'], ['Get', 'Orders', 'Anything', 'Sell', 'Millions', 'customers', 'sent', 'website'], ['Home', 'Depot', 'gift', 'card', 'waiting'], ['graphics', 'software', 'available', 'cheap', 'OEM', 'versions'], ['finally', 'possible', 'enlarge', 'penis'], ['question', 'website']]\n"
     ]
    }
   ],
   "source": [
    "subjects = readSpamFiles()\n",
    "clean_subjects = [cleanText(s) for s in subjects]\n",
    "print(clean_subjects)"
   ]
  },
  {
   "cell_type": "code",
   "execution_count": null,
   "id": "fa546ba9",
   "metadata": {},
   "outputs": [],
   "source": []
  },
  {
   "cell_type": "code",
   "execution_count": null,
   "id": "c5046f8d",
   "metadata": {},
   "outputs": [],
   "source": []
  }
 ],
 "metadata": {
  "kernelspec": {
   "display_name": "Python 3 (ipykernel)",
   "language": "python",
   "name": "python3"
  },
  "language_info": {
   "codemirror_mode": {
    "name": "ipython",
    "version": 3
   },
   "file_extension": ".py",
   "mimetype": "text/x-python",
   "name": "python",
   "nbconvert_exporter": "python",
   "pygments_lexer": "ipython3",
   "version": "3.9.7"
  }
 },
 "nbformat": 4,
 "nbformat_minor": 5
}
