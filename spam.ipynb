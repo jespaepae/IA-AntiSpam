{
 "cells": [
  {
   "cell_type": "code",
   "execution_count": 1,
   "id": "7c1e48e9",
   "metadata": {},
   "outputs": [
    {
     "name": "stderr",
     "output_type": "stream",
     "text": [
      "[nltk_data] Downloading package punkt to ....\n",
      "[nltk_data]   Package punkt is already up-to-date!\n",
      "[nltk_data] Downloading package stopwords to\n",
      "[nltk_data]     C:\\Users\\jesus\\AppData\\Roaming\\nltk_data...\n",
      "[nltk_data]   Package stopwords is already up-to-date!\n"
     ]
    }
   ],
   "source": [
    "from nltk.lm.vocabulary import Vocabulary\n",
    "from nltk import download\n",
    "import glob\n",
    "import itertools\n",
    "import email\n",
    "import string\n",
    "from nltk.corpus.reader.plaintext import PlaintextCorpusReader\n",
    "from nltk.corpus import stopwords\n",
    "from nltk.data import load\n",
    "import numpy as np\n",
    "download('punkt', download_dir='.')\n",
    "download('stopwords')\n",
    "\n",
    "# Función para leer los emails de un directorio dado (num es el número de correos del directorio que se quieren leer)\n",
    "\n",
    "def readEmails(url, num = 1):\n",
    "    url = str(url)\n",
    "    mails = []\n",
    "    i = 0\n",
    "    for s in glob.glob(url+\"*\"):\n",
    "        with open(url+s.split(\"\\\\\")[1]) as file_:\n",
    "            mail = email.message_from_file(file_)\n",
    "            mails.append(mail.get(\"Subject\"))\n",
    "        if i >= num:\n",
    "            break\n",
    "        i=i+1\n",
    "    return mails\n",
    "\n",
    "# Función para leer un email dado una url\n",
    "def read_email(url):\n",
    "    subject = []\n",
    "    with open(url) as file_:\n",
    "            mail = email.message_from_file(file_)\n",
    "            subject.append(mail.get(\"Subject\"))\n",
    "    return subject"
   ]
  },
  {
   "cell_type": "code",
   "execution_count": 2,
   "id": "dae6afa6",
   "metadata": {},
   "outputs": [],
   "source": [
    "# Función para eliminar los signos de puntuación de un texto dado\n",
    "\n",
    "def cleanText(text):\n",
    "    punctuations = []\n",
    "    words = ''\n",
    "    if text != None:\n",
    "        words = []\n",
    "        for c in text:\n",
    "            if c not in string.punctuation:\n",
    "\n",
    "                punctuations.append(c)\n",
    "        punctuations = ''.join(punctuations)\n",
    "\n",
    "        for t in punctuations.split():\n",
    "            if t.lower() not in stopwords.words('english'):\n",
    "\n",
    "                words.append(t.lower())\n",
    "        words = ' '.join(words)\n",
    "    return words"
   ]
  },
  {
   "cell_type": "code",
   "execution_count": 3,
   "id": "1d0acabb",
   "metadata": {},
   "outputs": [
    {
     "name": "stdout",
     "output_type": "stream",
     "text": [
      "['order cheap vallum ship worldwide' 'phamacy online dragnet' '' ...\n",
      " 'deacero contract' 'mark' 'highstar letter']\n"
     ]
    }
   ],
   "source": [
    "spam_subjects = readEmails(\"Enron-Spam-Splited/train/no_deseado/\", 9494)\n",
    "ham_subjects = readEmails(\"Enron-Spam-Splited/train/legítimo/\", 10828)\n",
    "clean_spam_subjects = [cleanText(s) for s in spam_subjects]\n",
    "clean_ham_subjects = [cleanText(s) for s in ham_subjects]\n",
    "clean_subjects = np.concatenate((clean_spam_subjects, clean_ham_subjects), axis=0)\n",
    "print(clean_subjects)"
   ]
  },
  {
   "cell_type": "markdown",
   "id": "3b3831d6",
   "metadata": {},
   "source": [
    "Dividimos el conjunto de mensajes proporcionado en dos subconjuntos, uno de entrenamiento (con el 80% de los correos del conjunto incial) y el otro de validación (con el 20% de correos restantes), usando la bibioteca splitfolders de Python."
   ]
  },
  {
   "cell_type": "code",
   "execution_count": 4,
   "id": "fa546ba9",
   "metadata": {},
   "outputs": [
    {
     "name": "stderr",
     "output_type": "stream",
     "text": [
      "Copying files: 25404 files [02:02, 207.70 files/s]\n"
     ]
    }
   ],
   "source": [
    "import splitfolders\n",
    "\n",
    "splitfolders.ratio(\"Enron-Spam\", output=\"Enron-Spam-Splited\", seed=1337, ratio=(.8, .2))"
   ]
  },
  {
   "cell_type": "markdown",
   "id": "0590bcdd",
   "metadata": {},
   "source": [
    "Para representar de forma numérica el contenido de los correos electrónicos usamos como modelo de lenguaje el conocido como bolsa de palabras\n",
    "Bibliografía: https://scikit-learn.org/stable/modules/feature_extraction.html"
   ]
  },
  {
   "cell_type": "code",
   "execution_count": 4,
   "id": "c5046f8d",
   "metadata": {},
   "outputs": [],
   "source": [
    "from sklearn.feature_extraction.text import CountVectorizer\n",
    "\n",
    "vectorizer = CountVectorizer()"
   ]
  },
  {
   "cell_type": "markdown",
   "id": "b19d065c",
   "metadata": {},
   "source": [
    "Tokenizamos las palabras que encontramos en los correos y contamos las ocurrencias de cada una, y las representamos en una matriz en la que las filas se correponden con los distintos correos, mientras que las columnas son las distintas palabras que conforman el vocabulario."
   ]
  },
  {
   "cell_type": "code",
   "execution_count": 5,
   "id": "a2b7f12a",
   "metadata": {},
   "outputs": [],
   "source": [
    "x = vectorizer.fit_transform(clean_subjects)"
   ]
  },
  {
   "cell_type": "markdown",
   "id": "ef363623",
   "metadata": {},
   "source": [
    "Mostramos las 50 primeras palabras del vocabulario, que se correponden con las 50 primeras columnas de la matriz."
   ]
  },
  {
   "cell_type": "code",
   "execution_count": 6,
   "id": "673ef334",
   "metadata": {},
   "outputs": [
    {
     "name": "stdout",
     "output_type": "stream",
     "text": [
      "['00' '000000000053327' '004' '0071' '0074' '00754' '00971' '00nr' '01'\n",
      " '0100' '010101' '01082002' '01092002' '011238' '01140118' '011501'\n",
      " '011601' '01162002' '012201' '012901' '01405' '015607' '0179mfrp5640z13'\n",
      " '0199' '02' '0200' '02040208' '020501' '020629' '020901' '02110215'\n",
      " '021201' '021601' '02190222' '021931' '02232000' '022400' '02250301'\n",
      " '025' '025536' '0300' '0300hexane' '0301' '03040308' '030701' '0309'\n",
      " '03110315' '0313' '0314' '0315']\n"
     ]
    }
   ],
   "source": [
    "print(vectorizer.get_feature_names_out()[:50])"
   ]
  },
  {
   "cell_type": "markdown",
   "id": "d524e5d4",
   "metadata": {},
   "source": [
    "Mostramos las filas y columnas de la matriz en forma de array. Cada elemento representa el número de veces que aparece la palabra de la columna en el correo de la fila."
   ]
  },
  {
   "cell_type": "code",
   "execution_count": 7,
   "id": "5c46cee4",
   "metadata": {},
   "outputs": [
    {
     "name": "stdout",
     "output_type": "stream",
     "text": [
      "[[0 0 0 ... 0 0 0]\n",
      " [0 0 0 ... 0 0 0]\n",
      " [0 0 0 ... 0 0 0]\n",
      " ...\n",
      " [0 0 0 ... 0 0 0]\n",
      " [0 0 0 ... 0 0 0]\n",
      " [0 0 0 ... 0 0 0]]\n"
     ]
    }
   ],
   "source": [
    "print(x.toarray())"
   ]
  },
  {
   "cell_type": "markdown",
   "id": "3d2f5291",
   "metadata": {},
   "source": [
    "Creamos un array, en el que los primeros elementos serán 1s, indicándole al clasificador que los correos correspondientes son considerados spam, y los últimos elementos serán 0s, que se corresponden con correos legítimos."
   ]
  },
  {
   "cell_type": "code",
   "execution_count": 74,
   "id": "7c44a811",
   "metadata": {},
   "outputs": [],
   "source": [
    "y = []\n",
    "for i in range(9494):\n",
    "    y.append(1)\n",
    "for i in range(10828):\n",
    "    y.append(0)\n",
    "y = np.array(y)"
   ]
  },
  {
   "cell_type": "markdown",
   "id": "3689dad2",
   "metadata": {},
   "source": [
    "Entrenamos el clasificador de Naive Bayes Multinomial con el conjunto de entrenamiento y mostramos cómo clasificaría los 50 primeros correos del conjunto de entrenamiento (como son correos no deseados los debería clasificar como spam, es decir, con un 1)."
   ]
  },
  {
   "cell_type": "code",
   "execution_count": 75,
   "id": "980bcd37",
   "metadata": {},
   "outputs": [
    {
     "name": "stderr",
     "output_type": "stream",
     "text": [
      "C:\\ProgramData\\Anaconda3\\lib\\site-packages\\sklearn\\naive_bayes.py:555: UserWarning: alpha too small will result in numeric errors, setting alpha = 1.0e-10\n",
      "  warnings.warn(\n"
     ]
    },
    {
     "name": "stdout",
     "output_type": "stream",
     "text": [
      "[1 1 0 1 1 1 1 1 1 1 1 1 1 1 1 1 1 1 0 1 1 1 1 1 1 1 1 1 1 1 1 1 1 0 1 1 1\n",
      " 1 1 1 1 1 1 1 1 1 1 1 1 1]\n"
     ]
    }
   ],
   "source": [
    "from sklearn.naive_bayes import MultinomialNB\n",
    "\n",
    "clf = MultinomialNB(alpha=0)\n",
    "clf.fit(x.toarray(), y)\n",
    "\n",
    "print(clf.predict(x.toarray()[0:50]))"
   ]
  },
  {
   "cell_type": "markdown",
   "id": "0903868f",
   "metadata": {},
   "source": [
    "A continuación, leemos los correos del conjunto de validación y los limpiamos para eliminar símbolos de puntuación y \"stopwords\"."
   ]
  },
  {
   "cell_type": "code",
   "execution_count": 76,
   "id": "87ccc7df",
   "metadata": {},
   "outputs": [
    {
     "name": "stdout",
     "output_type": "stream",
     "text": [
      "['sper pass anyone taking medications' '' 'server mailing' ...\n",
      " 'fw fort pierce' 'lincoln electric'\n",
      " 'proposed rule extends marketing affiliate regulations affiliates']\n"
     ]
    }
   ],
   "source": [
    "spam_subjects_val = readEmails(\"Enron-Spam-Splited/val/no_deseado/\",2374)\n",
    "ham_subjects_val = readEmails(\"Enron-Spam-Splited/val/legítimo/\",2708)\n",
    "clean_spam_subjects_val = [cleanText(s) for s in spam_subjects_val]\n",
    "clean_ham_subjects_val = [cleanText(s) for s in ham_subjects_val]\n",
    "clean_subjects_val = np.concatenate((clean_spam_subjects_val, clean_ham_subjects_val))\n",
    "print(clean_subjects_val)"
   ]
  },
  {
   "cell_type": "markdown",
   "id": "85d3936e",
   "metadata": {},
   "source": [
    "Tokenizamos las palabras encontradas en el conjunto de validación, y le pedimos al modelo que nos muestre la clasificación realizada de los 50 primeros correos (que deberían ser spam)."
   ]
  },
  {
   "cell_type": "code",
   "execution_count": 77,
   "id": "ad51ab46",
   "metadata": {},
   "outputs": [
    {
     "name": "stdout",
     "output_type": "stream",
     "text": [
      "[1 0 1 1 1 1 1 1 1 1 1 1 1 1 1 1 1 1 1 1 0 1 1 1 1 1 1 1 1 0 1 1 1 1 0 1 1\n",
      " 1 1 0 1 1 1 1 1 1 1 1 1 1]\n"
     ]
    }
   ],
   "source": [
    "x_val = vectorizer.transform(clean_subjects_val).toarray()\n",
    "print(clf.predict(x_val[:50]))"
   ]
  },
  {
   "cell_type": "markdown",
   "id": "d1c91c7a",
   "metadata": {},
   "source": [
    "Sin embargo, como podemos comprobar, no todos los elementos son 1s, por lo que el modelo clasifica erróneamente algunos correos. Creamos una matriz de confusión para evaluar el desempeño del filtro, usando la librería seaborn para mostrarla.\n",
    "\n",
    "Bibliografía: https://www.milindsoorya.com/blog/build-a-spam-classifier-in-python\n",
    "https://scikit-learn.org/stable/modules/generated/sklearn.metrics.confusion_matrix.html"
   ]
  },
  {
   "cell_type": "code",
   "execution_count": 78,
   "id": "8747c949",
   "metadata": {},
   "outputs": [
    {
     "data": {
      "image/png": "[encoded data removed]",
      "text/plain": [
       "<Figure size 432x360 with 2 Axes>"
      ]
     },
     "metadata": {
      "needs_background": "light"
     },
     "output_type": "display_data"
    }
   ],
   "source": [
    "from sklearn.metrics import confusion_matrix\n",
    "import matplotlib.pyplot as plt\n",
    "import seaborn as sns\n",
    "\n",
    "y_pred_nb = clf.predict(x_val)     # Vector con la clasificación del filtro\n",
    "y_true_nb = []                     # Vector con los resultados que debería dar el filtro\n",
    "for i in range(2374):\n",
    "    y_true_nb.append(1)\n",
    "for i in range(2708):\n",
    "    y_true_nb.append(0)\n",
    "y_true_nb = np.array(y_true_nb)\n",
    "\n",
    "\n",
    "cm = confusion_matrix(y_true_nb, y_pred_nb)\n",
    "f, ax = plt.subplots(figsize =(6,5))\n",
    "sns.heatmap(cm,annot = True,fmt = \".0f\",ax=ax,cmap=\"Blues\")\n",
    "plt.xlabel(\"y_pred_nb\")\n",
    "plt.ylabel(\"y_true_nb\")\n",
    "plt.show()"
   ]
  },
  {
   "cell_type": "markdown",
   "id": "3a3641c7",
   "metadata": {},
   "source": [
    "Por tanto, el filtro usando bolsa de palabras como modelo del lenguaje y naive Bayes Multinomial como modelo clasificador es el siguiente (se le debe proporcionar la url donde se encuentra el correo que se quiere clasificar)"
   ]
  },
  {
   "cell_type": "code",
   "execution_count": 102,
   "id": "b8b77841",
   "metadata": {},
   "outputs": [],
   "source": [
    "def clasificador_nb(url):\n",
    "    subject = read_email(url)\n",
    "    clean_subject = [cleanText(s) for s in subject]\n",
    "    print(subject)\n",
    "    x = vectorizer.transform(clean_subject).toarray()\n",
    "    res = clf.predict(x)\n",
    "    if res[0] == 0:\n",
    "        return False\n",
    "    else:\n",
    "        return True"
   ]
  },
  {
   "cell_type": "code",
   "execution_count": null,
   "id": "368ea9ed",
   "metadata": {},
   "outputs": [],
   "source": []
  }
 ],
 "metadata": {
  "kernelspec": {
   "display_name": "Python 3 (ipykernel)",
   "language": "python",
   "name": "python3"
  },
  "language_info": {
   "codemirror_mode": {
    "name": "ipython",
    "version": 3
   },
   "file_extension": ".py",
   "mimetype": "text/x-python",
   "name": "python",
   "nbconvert_exporter": "python",
   "pygments_lexer": "ipython3",
   "version": "3.9.7"
  }
 },
 "nbformat": 4,
 "nbformat_minor": 5
}
